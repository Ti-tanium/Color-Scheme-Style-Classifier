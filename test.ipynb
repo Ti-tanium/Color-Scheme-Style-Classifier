{
 "cells": [
  {
   "cell_type": "code",
   "execution_count": 106,
   "metadata": {},
   "outputs": [],
   "source": [
    "import lightgbm as lgb\n",
    "from hsluv import *\n",
    "import re\n",
    "import colorgram\n",
    "from PIL import Image\n",
    "import matplotlib.pyplot as plt \n",
    "import colorsys\n",
    "from colorthief import ColorThief\n"
   ]
  },
  {
   "cell_type": "code",
   "execution_count": 80,
   "metadata": {},
   "outputs": [],
   "source": [
    "def sortByHue(elem):\n",
    "    hls=colorsys.rgb_to_hls(*elem.rgb)\n",
    "    return hls[0]\n",
    "\n",
    "def sortByLight(elem):\n",
    "    hls=colorsys.rgb_to_hls(*elem.rgb)\n",
    "    return hls[1]\n",
    "\n",
    "def sortBySaturation(elem):\n",
    "    hls=colorsys.rgb_to_hls(*elem.rgb)\n",
    "    return hls[2]"
   ]
  },
  {
   "cell_type": "code",
   "execution_count": 119,
   "metadata": {},
   "outputs": [
    {
     "data": {
      "text/plain": [
       "(-0.5, 249.5, 49.5, -0.5)"
      ]
     },
     "execution_count": 119,
     "metadata": {},
     "output_type": "execute_result"
    },
    {
     "data": {
      "image/png": "[encoded data removed]",
      "text/plain": [
       "<Figure size 432x288 with 1 Axes>"
      ]
     },
     "metadata": {
      "needs_background": "light"
     },
     "output_type": "display_data"
    }
   ],
   "source": [
    "colors=colorgram.extract('./data/fresh/fresh_40.jpg',5)\n",
    "colors.sort(key=sortByLight,reverse=True)\n",
    "im=Image.new(\"RGB\",(len(colors)*50,1*50))\n",
    "for i,color in enumerate(colors):\n",
    "    for y in range(50):\n",
    "        for x in range(50):\n",
    "            im.putpixel((x+i*50,y),color.rgb)\n",
    "\n",
    "plt.imshow(im)\n",
    "plt.axis('off')"
   ]
  },
  {
   "cell_type": "code",
   "execution_count": 77,
   "metadata": {},
   "outputs": [
    {
     "data": {
      "text/plain": [
       "0.5416666666666666"
      ]
     },
     "execution_count": 77,
     "metadata": {},
     "output_type": "execute_result"
    }
   ],
   "source": [
    "hls=colorsys.rgb_to_hls(*colors[0].rgb)\n",
    "colorsys.hls_to_rgb(*hsl)\n",
    "hls[0]"
   ]
  },
  {
   "cell_type": "code",
   "execution_count": 160,
   "metadata": {
    "scrolled": false
   },
   "outputs": [
    {
     "name": "stdout",
     "output_type": "stream",
     "text": [
      "[(248, 247, 245), (217, 149, 189), (148, 131, 162), (190, 60, 125), (211, 182, 36)]\n"
     ]
    },
    {
     "data": {
      "text/plain": [
       "(-0.5, 249.5, 49.5, -0.5)"
      ]
     },
     "execution_count": 160,
     "metadata": {},
     "output_type": "execute_result"
    },
    {
     "data": {
      "image/png": "[encoded data removed]",
      "text/plain": [
       "<Figure size 432x288 with 1 Axes>"
      ]
     },
     "metadata": {
      "needs_background": "light"
     },
     "output_type": "display_data"
    }
   ],
   "source": [
    "def sortByLight2(elem):\n",
    "    hls=colorsys.rgb_to_hls(*elem)\n",
    "    return hls[1]\n",
    "color_thief = ColorThief('./data/fresh/fresh_40.jpg')\n",
    "# build a color palette\n",
    "palette = color_thief.get_palette(color_count=5,quality=1)\n",
    "palette.sort(key=sortByLight2,reverse=True)\n",
    "im1=Image.new(\"RGB\",(len(palette)*50,1*50))\n",
    "for i,color in enumerate(palette):\n",
    "    for y in range(50):\n",
    "        for x in range(50):\n",
    "            im1.putpixel((x+i*50,y),color)\n",
    "\n",
    "plt.imshow(im1)\n",
    "plt.axis('off')\n"
   ]
  },
  {
   "cell_type": "code",
   "execution_count": 161,
   "metadata": {},
   "outputs": [
    {
     "name": "stdout",
     "output_type": "stream",
     "text": [
      "[(248, 246, 246), (212, 140, 52), (169, 84, 159), (233, 195, 157), (156, 152, 152)]\n"
     ]
    },
    {
     "data": {
      "text/plain": [
       "(-0.5, 249.5, 49.5, -0.5)"
      ]
     },
     "execution_count": 161,
     "metadata": {},
     "output_type": "execute_result"
    },
    {
     "data": {
      "image/png": "[encoded data removed]",
      "text/plain": [
       "<Figure size 432x288 with 1 Axes>"
      ]
     },
     "metadata": {
      "needs_background": "light"
     },
     "output_type": "display_data"
    }
   ],
   "source": [
    "# build a color palette\n",
    "palette = color_thief.get_palette(color_count=5,quality=10)\n",
    "print(palette)\n",
    "palette.sort(key=sortByLight2,reverse=True)\n",
    "im1=Image.new(\"RGB\",(len(palette)*50,1*50))\n",
    "for i,color in enumerate(palette):\n",
    "    for y in range(50):\n",
    "        for x in range(50):\n",
    "            im1.putpixel((x+i*50,y),color)\n",
    "\n",
    "plt.imshow(im1)\n",
    "plt.axis('off')\n"
   ]
  }
 ],
 "metadata": {
  "kernelspec": {
   "display_name": "Python 3",
   "language": "python",
   "name": "python3"
  },
  "language_info": {
   "codemirror_mode": {
    "name": "ipython",
    "version": 3
   },
   "file_extension": ".py",
   "mimetype": "text/x-python",
   "name": "python",
   "nbconvert_exporter": "python",
   "pygments_lexer": "ipython3",
   "version": "3.7.0"
  }
 },
 "nbformat": 4,
 "nbformat_minor": 2
}
