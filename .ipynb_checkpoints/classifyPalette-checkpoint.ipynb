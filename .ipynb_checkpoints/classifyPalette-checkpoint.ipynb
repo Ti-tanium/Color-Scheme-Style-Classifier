{
 "cells": [
  {
   "cell_type": "code",
   "execution_count": null,
   "metadata": {
    "_cell_guid": "b1076dfc-b9ad-4769-8c92-a6c4dae69d19",
    "_uuid": "8f2839f25d086af736a60e9eeb907d3b93b6e0e5"
   },
   "outputs": [],
   "source": [
    "import lightgbm as lgb\n",
    "import re\n",
    "import colorgram\n",
    "from PIL import Image\n",
    "import matplotlib.pyplot as plt \n",
    "import colorsys\n",
    "from colorthief import ColorThief"
   ]
  },
  {
   "cell_type": "code",
   "execution_count": null,
   "metadata": {
    "_cell_guid": "79c7e3d0-c299-4dcb-8224-4455121ee9b0",
    "_uuid": "d629ff2d2480ee46fbb7e2d37f6b5fab8052498a"
   },
   "outputs": [],
   "source": [
    "def sortByHue(elem):\n",
    "    hls=colorsys.rgb_to_hls(*elem.rgb)\n",
    "    return hls[0]\n",
    "\n",
    "def sortByLight(elem):\n",
    "    hls=colorsys.rgb_to_hls(*elem.rgb)\n",
    "    return hls[1]\n",
    "\n",
    "def sortBySaturation(elem):\n",
    "    hls=colorsys.rgb_to_hls(*elem.rgb)\n",
    "    return hls[2]"
   ]
  },
  {
   "cell_type": "code",
   "execution_count": null,
   "metadata": {},
   "outputs": [],
   "source": [
    "# This Python 3 environment comes with many helpful analytics libraries installed\n",
    "# It is defined by the kaggle/python docker image: https://github.com/kaggle/docker-python\n",
    "# For example, here's several helpful packages to load in \n",
    "\n",
    "import numpy as np # linear algebra\n",
    "import pandas as pd # data processing, CSV file I/O (e.g. pd.read_csv)\n",
    "from sklearn.model_selection import train_test_split\n",
    "import lightgbm as lgb\n",
    "from sklearn.metrics import mean_squared_error\n",
    "from sklearn import preprocessing\n",
    "\n",
    "# Input data files are available in the \"../input/\" directory.\n",
    "# For example, running this (by clicking run or pressing Shift+Enter) will list the files in the input directory\n",
    "\n",
    "import os\n",
    "\n",
    "# Any results you write to the current directory are saved as output."
   ]
  },
  {
   "cell_type": "code",
   "execution_count": null,
   "metadata": {},
   "outputs": [],
   "source": [
    "# read data\n",
    "palettes=pd.read_csv('./train_2.csv')\n",
    "palettes.head()"
   ]
  },
  {
   "cell_type": "code",
   "execution_count": null,
   "metadata": {},
   "outputs": [],
   "source": [
    "palettes['style'].value_counts().plot(kind='bar')\n",
    "plt.show()"
   ]
  },
  {
   "cell_type": "code",
   "execution_count": null,
   "metadata": {},
   "outputs": [],
   "source": [
    "# data processsing\n",
    "Y=palettes['style']\n",
    "X=palettes.drop('style',axis=1)\n"
   ]
  },
  {
   "cell_type": "code",
   "execution_count": null,
   "metadata": {},
   "outputs": [],
   "source": [
    "# add hue saturation and lightness feature\n",
    "# def toHsl(rgb):\n",
    "#     n=rgb.index[1][2:3]\n",
    "#     h,s,l=colorsys.rgb_to_hls(rgb[0],rgb[1],rgb[2])\n",
    "#     return pd.Series({\n",
    "#         'h'+n:h,\n",
    "#         's'+n:s,\n",
    "#         'l'+n:l\n",
    "#     })\n",
    "# for i in range(5):\n",
    "#     X=pd.concat([X,X.iloc[:,[i*3,i*3+1,i*3+2]].apply(toHsl,axis=1)],axis=1)\n",
    "# X.to_csv('./feature.csv',index=False)\n",
    "Y.to_csv('./label.csv',index=False,header=True)\n",
    "X=pd.read_csv('./feature.csv')\n",
    "Y=pd.read_csv('./label.csv')\n",
    "X.head()"
   ]
  },
  {
   "cell_type": "code",
   "execution_count": null,
   "metadata": {},
   "outputs": [],
   "source": [
    "# label encoding\n",
    "le=preprocessing.LabelEncoder()\n",
    "le.fit(Y)\n",
    "Y=le.transform(Y)\n",
    "Y"
   ]
  },
  {
   "cell_type": "code",
   "execution_count": null,
   "metadata": {},
   "outputs": [],
   "source": [
    "train_X,test_X,train_Y,test_Y=train_test_split(X,Y,test_size=0.25,random_state=1)\n",
    "\n",
    "# create dataset for lightgbm\n",
    "lgb_train=lgb.Dataset(train_X,train_Y)\n",
    "lgb_eval=lgb.Dataset(test_X,test_Y,reference=lgb_train)\n",
    "# specify your configurations as a dict\n",
    "\n",
    "params = {\n",
    "    'boosting_type': 'gbdt',\n",
    "    'objective': 'multiclass',\n",
    "    'metric': {'multi_error'},\n",
    "    'learning_rate': 0.01,\n",
    "    'feature_fraction': 0.7,\n",
    "    'bagging_fraction': 0.7,\n",
    "    'bagging_freq': 4,\n",
    "    'num_class':3,\n",
    "    'num_leaves':400,\n",
    "    'max_depth':14,\n",
    "    'max_bin':30\n",
    "}\n",
    "# gbm = lgb.train(params,\n",
    "#                 lgb_train,\n",
    "#                 num_boost_round=320,\n",
    "#                 valid_sets=lgb_eval,\n",
    "#                 early_stopping_rounds=50\n",
    "#                )\n",
    "cv_results = lgb.cv(params, lgb_train, num_boost_round=1000, nfold=5, stratified=False, shuffle=True, metrics='multi_error',early_stopping_rounds=50,seed=0)\n",
    "mem=pd.Series(cv_results['multi_error-mean'])\n",
    "print('multi error mean:',mem.min())\n",
    "print('best iteration:',mem.idxmin())"
   ]
  },
  {
   "cell_type": "code",
   "execution_count": null,
   "metadata": {},
   "outputs": [],
   "source": [
    "# gbm.best_score\n",
    "mem=pd.Series(cv_results['multi_error-mean'])\n",
    "print('multi error mean:',mem.min())\n",
    "print('best iteration:',mem.idxmin())"
   ]
  },
  {
   "cell_type": "code",
   "execution_count": null,
   "metadata": {},
   "outputs": [],
   "source": [
    "print('Starting predicting...')\n",
    "# predict\n",
    "y_pred = gbm.predict(test_X, num_iteration=gbm.best_iteration)\n",
    "pred_Y=[0 for i in range(len(y_pred))]\n",
    "y_pred=y_pred.tolist()\n",
    "for i in range(len(y_pred)):\n",
    "    pred_Y[i]=y_pred[i][:].index(max(y_pred[i][:]))\n",
    "# eval\n",
    "print('The rmse of prediction is:', mean_squared_error(test_Y, pred_Y) ** 0.5)"
   ]
  },
  {
   "cell_type": "code",
   "execution_count": null,
   "metadata": {},
   "outputs": [],
   "source": [
    "# train model on full data set\n",
    "lgb_train=lgb.Dataset(X,Y)\n",
    "gbm = lgb.train(params,\n",
    "                lgb_train,\n",
    "                num_boost_round=320,\n",
    "                valid_sets=lgb_eval,\n",
    "                early_stopping_rounds=50\n",
    "               )"
   ]
  },
  {
   "cell_type": "code",
   "execution_count": null,
   "metadata": {},
   "outputs": [],
   "source": [
    "print('Saving model...')\n",
    "# save model to file\n",
    "gbm.save_model('./model.txt')"
   ]
  },
  {
   "cell_type": "code",
   "execution_count": null,
   "metadata": {},
   "outputs": [],
   "source": [
    "# param: palette,eg:[(r,g,b),(r,g,b),(r,g,b),(r,g,b),(r,g,b)]\n",
    "# return style ['cute','fresh','technology']\n",
    "def style_predict(palette):\n",
    "    def sortByLight2(elem):\n",
    "        hls=colorsys.rgb_to_hls(*elem)\n",
    "        return hls[1]\n",
    "    # build a color palette\n",
    "    palette.sort(key=sortByLight2,reverse=True)\n",
    "    palette1=[*palette[0],*palette[1],*palette[2],*palette[3],*palette[4]]\n",
    "    for c in palette:\n",
    "        h,l,s=colorsys.rgb_to_hls(*c)\n",
    "        palette1=[*palette1,h,l,s]\n",
    "    x=pd.Series(palette1)\n",
    "    y_pred = gbm.predict(x, num_iteration=gbm.best_iteration)\n",
    "    pred_Y=[0 for i in range(len(y_pred))]\n",
    "    y_pred=y_pred.tolist()\n",
    "    style=['cute','fresh','technology']\n",
    "    for i in range(len(y_pred)):\n",
    "        pred_Y[i]=y_pred[i][:].index(max(y_pred[i][:]))\n",
    "    print(\"Probability：\",y_pred)\n",
    "    return style[pred_Y[0]]"
   ]
  },
  {
   "cell_type": "code",
   "execution_count": null,
   "metadata": {},
   "outputs": [],
   "source": [
    "# test, show the palette extract from image, and the style prediction for the palette\n",
    "color_thief = ColorThief('./data/cute/cute_237.jpg')\n",
    "# build a color palette\n",
    "palette = color_thief.get_palette(color_count=5,quality=1)\n",
    "palette.sort(key=sortByLight2,reverse=True)\n",
    "im1=Image.new(\"RGB\",(len(palette)*50,1*50))\n",
    "for i,color in enumerate(palette):\n",
    "    for y in range(50):\n",
    "        for x in range(50):\n",
    "            im1.putpixel((x+i*50,y),color)\n",
    "plt.imshow(im1)\n",
    "plt.axis('off')\n",
    "plt.show()\n",
    "print(style_predict(palette))\n"
   ]
  }
 ],
 "metadata": {
  "kernelspec": {
   "display_name": "Python 3",
   "language": "python",
   "name": "python3"
  },
  "language_info": {
   "codemirror_mode": {
    "name": "ipython",
    "version": 3
   },
   "file_extension": ".py",
   "mimetype": "text/x-python",
   "name": "python",
   "nbconvert_exporter": "python",
   "pygments_lexer": "ipython3",
   "version": "3.7.0"
  }
 },
 "nbformat": 4,
 "nbformat_minor": 1
}
