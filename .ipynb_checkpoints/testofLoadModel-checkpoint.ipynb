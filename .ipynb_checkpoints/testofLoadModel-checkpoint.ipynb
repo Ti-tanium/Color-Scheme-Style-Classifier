{
 "cells": [
  {
   "cell_type": "code",
   "execution_count": 106,
   "metadata": {},
   "outputs": [],
   "source": [
    "import lightgbm as gbm\n",
    "from colorthief import ColorThief\n",
    "import colorsys\n",
    "from PIL import Image\n",
    "import matplotlib.pyplot as plt \n",
    "import pandas as pd"
   ]
  },
  {
   "cell_type": "code",
   "execution_count": 80,
   "metadata": {},
   "outputs": [],
   "source": [
    "gbm=gbm.Booster(model_file='./model.txt')"
   ]
  },
  {
   "cell_type": "code",
   "execution_count": 119,
   "metadata": {},
   "outputs": [
    {
     "data": {
      "text/plain": [
       "(-0.5, 249.5, 49.5, -0.5)"
      ]
     },
     "execution_count": 119,
     "metadata": {},
     "output_type": "execute_result"
    },
    {
     "data": {
      "image/png": "[encoded data removed]",
      "text/plain": [
       "<Figure size 432x288 with 1 Axes>"
      ]
     },
     "metadata": {
      "needs_background": "light"
     },
     "output_type": "display_data"
    }
   ],
   "source": [
    "# param: palette,eg:[(r,g,b),(r,g,b),(r,g,b),(r,g,b),(r,g,b)]\n",
    "# return style ['cute','fresh','technology']\n",
    "def style_predict(palette):\n",
    "    def sortByLight2(elem):\n",
    "        hls=colorsys.rgb_to_hls(*elem)\n",
    "        return hls[1]\n",
    "    # build a color palette\n",
    "    palette.sort(key=sortByLight2,reverse=True)\n",
    "    palette1=[*palette[0],*palette[1],*palette[2],*palette[3],*palette[4]]\n",
    "    for c in palette:\n",
    "        h,l,s=colorsys.rgb_to_hls(*c)\n",
    "        palette1=[*palette1,h,l,s]\n",
    "    x=pd.Series(palette1)\n",
    "    y_pred = gbm.predict(x, num_iteration=gbm.best_iteration)\n",
    "    pred_Y=[0 for i in range(len(y_pred))]\n",
    "    y_pred=y_pred.tolist()\n",
    "    style=['cute','fresh','technology']\n",
    "    for i in range(len(y_pred)):\n",
    "        pred_Y[i]=y_pred[i][:].index(max(y_pred[i][:]))\n",
    "    print(\"Probability：\",y_pred)\n",
    "    return style[pred_Y[0]]"
   ]
  }
 ],
 "metadata": {
  "kernelspec": {
   "display_name": "Python 3",
   "language": "python",
   "name": "python3"
  },
  "language_info": {
   "codemirror_mode": {
    "name": "ipython",
    "version": 3
   },
   "file_extension": ".py",
   "mimetype": "text/x-python",
   "name": "python",
   "nbconvert_exporter": "python",
   "pygments_lexer": "ipython3",
   "version": "3.7.0"
  }
 },
 "nbformat": 4,
 "nbformat_minor": 2
}
