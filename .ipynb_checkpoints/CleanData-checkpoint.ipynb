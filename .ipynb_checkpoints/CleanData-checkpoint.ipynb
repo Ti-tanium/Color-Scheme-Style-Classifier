{
 "cells": [
  {
   "cell_type": "code",
   "execution_count": 1,
   "metadata": {},
   "outputs": [],
   "source": [
    "import lightgbm as lgb\n",
    "import re\n",
    "import colorgram\n",
    "from PIL import Image\n",
    "import matplotlib.pyplot as plt \n",
    "import pandas as pd\n",
    "import colorsys\n",
    "from colorthief import ColorThief"
   ]
  },
  {
   "cell_type": "code",
   "execution_count": 2,
   "metadata": {},
   "outputs": [
    {
     "data": {
      "text/html": [
       "<div>\n",
       "<style scoped>\n",
       "    .dataframe tbody tr th:only-of-type {\n",
       "        vertical-align: middle;\n",
       "    }\n",
       "\n",
       "    .dataframe tbody tr th {\n",
       "        vertical-align: top;\n",
       "    }\n",
       "\n",
       "    .dataframe thead th {\n",
       "        text-align: right;\n",
       "    }\n",
       "</style>\n",
       "<table border=\"1\" class=\"dataframe\">\n",
       "  <thead>\n",
       "    <tr style=\"text-align: right;\">\n",
       "      <th></th>\n",
       "      <th>c_1_r</th>\n",
       "      <th>c_1_g</th>\n",
       "      <th>c_1_b</th>\n",
       "      <th>c_2_r</th>\n",
       "      <th>c_2_g</th>\n",
       "      <th>c_2_b</th>\n",
       "      <th>c_3_r</th>\n",
       "      <th>c_3_g</th>\n",
       "      <th>c_3_b</th>\n",
       "      <th>c_4_r</th>\n",
       "      <th>c_4_g</th>\n",
       "      <th>c_4_b</th>\n",
       "      <th>c_5_r</th>\n",
       "      <th>c_5_g</th>\n",
       "      <th>c_5_b</th>\n",
       "      <th>style</th>\n",
       "    </tr>\n",
       "  </thead>\n",
       "  <tbody>\n",
       "    <tr>\n",
       "      <th>0</th>\n",
       "      <td>236</td>\n",
       "      <td>216</td>\n",
       "      <td>214</td>\n",
       "      <td>143</td>\n",
       "      <td>131</td>\n",
       "      <td>130</td>\n",
       "      <td>131</td>\n",
       "      <td>110</td>\n",
       "      <td>98</td>\n",
       "      <td>134</td>\n",
       "      <td>93</td>\n",
       "      <td>95</td>\n",
       "      <td>92</td>\n",
       "      <td>82</td>\n",
       "      <td>80</td>\n",
       "      <td>cute</td>\n",
       "    </tr>\n",
       "    <tr>\n",
       "      <th>1</th>\n",
       "      <td>248</td>\n",
       "      <td>230</td>\n",
       "      <td>174</td>\n",
       "      <td>100</td>\n",
       "      <td>151</td>\n",
       "      <td>213</td>\n",
       "      <td>48</td>\n",
       "      <td>99</td>\n",
       "      <td>197</td>\n",
       "      <td>170</td>\n",
       "      <td>122</td>\n",
       "      <td>71</td>\n",
       "      <td>93</td>\n",
       "      <td>64</td>\n",
       "      <td>92</td>\n",
       "      <td>cute</td>\n",
       "    </tr>\n",
       "    <tr>\n",
       "      <th>2</th>\n",
       "      <td>213</td>\n",
       "      <td>207</td>\n",
       "      <td>208</td>\n",
       "      <td>136</td>\n",
       "      <td>137</td>\n",
       "      <td>140</td>\n",
       "      <td>107</td>\n",
       "      <td>71</td>\n",
       "      <td>55</td>\n",
       "      <td>48</td>\n",
       "      <td>71</td>\n",
       "      <td>92</td>\n",
       "      <td>69</td>\n",
       "      <td>58</td>\n",
       "      <td>54</td>\n",
       "      <td>cute</td>\n",
       "    </tr>\n",
       "    <tr>\n",
       "      <th>3</th>\n",
       "      <td>242</td>\n",
       "      <td>243</td>\n",
       "      <td>238</td>\n",
       "      <td>244</td>\n",
       "      <td>213</td>\n",
       "      <td>169</td>\n",
       "      <td>211</td>\n",
       "      <td>186</td>\n",
       "      <td>192</td>\n",
       "      <td>171</td>\n",
       "      <td>183</td>\n",
       "      <td>183</td>\n",
       "      <td>194</td>\n",
       "      <td>152</td>\n",
       "      <td>163</td>\n",
       "      <td>cute</td>\n",
       "    </tr>\n",
       "    <tr>\n",
       "      <th>4</th>\n",
       "      <td>220</td>\n",
       "      <td>211</td>\n",
       "      <td>212</td>\n",
       "      <td>137</td>\n",
       "      <td>156</td>\n",
       "      <td>163</td>\n",
       "      <td>163</td>\n",
       "      <td>79</td>\n",
       "      <td>109</td>\n",
       "      <td>138</td>\n",
       "      <td>159</td>\n",
       "      <td>76</td>\n",
       "      <td>67</td>\n",
       "      <td>96</td>\n",
       "      <td>114</td>\n",
       "      <td>cute</td>\n",
       "    </tr>\n",
       "  </tbody>\n",
       "</table>\n",
       "</div>"
      ],
      "text/plain": [
       "   c_1_r  c_1_g  c_1_b  c_2_r  c_2_g  c_2_b  c_3_r  c_3_g  c_3_b  c_4_r  \\\n",
       "0    236    216    214    143    131    130    131    110     98    134   \n",
       "1    248    230    174    100    151    213     48     99    197    170   \n",
       "2    213    207    208    136    137    140    107     71     55     48   \n",
       "3    242    243    238    244    213    169    211    186    192    171   \n",
       "4    220    211    212    137    156    163    163     79    109    138   \n",
       "\n",
       "   c_4_g  c_4_b  c_5_r  c_5_g  c_5_b style  \n",
       "0     93     95     92     82     80  cute  \n",
       "1    122     71     93     64     92  cute  \n",
       "2     71     92     69     58     54  cute  \n",
       "3    183    183    194    152    163  cute  \n",
       "4    159     76     67     96    114  cute  "
      ]
     },
     "execution_count": 2,
     "metadata": {},
     "output_type": "execute_result"
    }
   ],
   "source": [
    "data=pd.read_csv('./train_2.csv')\n",
    "data.head()"
   ]
  },
  {
   "cell_type": "code",
   "execution_count": 3,
   "metadata": {},
   "outputs": [],
   "source": [
    "def sortByLight2(elem):\n",
    "        hls=colorsys.rgb_to_hls(*elem)\n",
    "        return hls[1]\n",
    "def show(palette):\n",
    "    palette.sort(key=sortByLight2,reverse=True)\n",
    "    im1=Image.new(\"RGB\",(len(palette)*50,1*50))\n",
    "    for i,color in enumerate(palette):\n",
    "        for y in range(50):\n",
    "            for x in range(50):\n",
    "                im1.putpixel((x+i*50,y),color)\n",
    "    plt.imshow(im1)\n",
    "    plt.axis('off')\n",
    "    plt.show()"
   ]
  },
  {
   "cell_type": "code",
   "execution_count": 4,
   "metadata": {},
   "outputs": [
    {
     "data": {
      "image/png": "[encoded data removed]",
      "text/plain": [
       "<Figure size 432x288 with 1 Axes>"
      ]
     },
     "metadata": {
      "needs_background": "light"
     },
     "output_type": "display_data"
    },
    {
     "name": "stdout",
     "output_type": "stream",
     "text": [
      "Keep?1\n"
     ]
    },
    {
     "data": {
      "image/png": "[encoded data removed]",
      "text/plain": [
       "<Figure size 432x288 with 1 Axes>"
      ]
     },
     "metadata": {
      "needs_background": "light"
     },
     "output_type": "display_data"
    },
    {
     "name": "stdout",
     "output_type": "stream",
     "text": [
      "Keep?1\n"
     ]
    },
    {
     "data": {
      "image/png": "[encoded data removed]",
      "text/plain": [
       "<Figure size 432x288 with 1 Axes>"
      ]
     },
     "metadata": {
      "needs_background": "light"
     },
     "output_type": "display_data"
    },
    {
     "name": "stdout",
     "output_type": "stream",
     "text": [
      "Keep?0\n"
     ]
    },
    {
     "data": {
      "image/png": "[encoded data removed]",
      "text/plain": [
       "<Figure size 432x288 with 1 Axes>"
      ]
     },
     "metadata": {
      "needs_background": "light"
     },
     "output_type": "display_data"
    },
    {
     "name": "stdout",
     "output_type": "stream",
     "text": [
      "Keep?1\n"
     ]
    }
   ],
   "source": [
    "for index, row in data.iterrows():\n",
    "    c1=(row['c_1_r'],row['c_1_g'],row['c_1_b'])\n",
    "    c2=(row['c_2_r'],row['c_2_g'],row['c_2_b'])\n",
    "    c3=(row['c_3_r'],row['c_3_g'],row['c_3_b'])\n",
    "    c4=(row['c_4_r'],row['c_4_g'],row['c_4_b'])\n",
    "    c5=(row['c_5_r'],row['c_5_g'],row['c_5_b'])\n",
    "    palette=[c1,c2,c3,c4,c5]\n",
    "    print(row['style'])\n",
    "    show(palette)\n",
    "    keep=input(\"Keep?\")\n",
    "    row['keep']=keep\n",
    "    if(index==3):\n",
    "        break"
   ]
  },
  {
   "cell_type": "code",
   "execution_count": 5,
   "metadata": {},
   "outputs": [
    {
     "data": {
      "text/html": [
       "<div>\n",
       "<style scoped>\n",
       "    .dataframe tbody tr th:only-of-type {\n",
       "        vertical-align: middle;\n",
       "    }\n",
       "\n",
       "    .dataframe tbody tr th {\n",
       "        vertical-align: top;\n",
       "    }\n",
       "\n",
       "    .dataframe thead th {\n",
       "        text-align: right;\n",
       "    }\n",
       "</style>\n",
       "<table border=\"1\" class=\"dataframe\">\n",
       "  <thead>\n",
       "    <tr style=\"text-align: right;\">\n",
       "      <th></th>\n",
       "      <th>c_1_r</th>\n",
       "      <th>c_1_g</th>\n",
       "      <th>c_1_b</th>\n",
       "      <th>c_2_r</th>\n",
       "      <th>c_2_g</th>\n",
       "      <th>c_2_b</th>\n",
       "      <th>c_3_r</th>\n",
       "      <th>c_3_g</th>\n",
       "      <th>c_3_b</th>\n",
       "      <th>c_4_r</th>\n",
       "      <th>c_4_g</th>\n",
       "      <th>c_4_b</th>\n",
       "      <th>c_5_r</th>\n",
       "      <th>c_5_g</th>\n",
       "      <th>c_5_b</th>\n",
       "      <th>style</th>\n",
       "    </tr>\n",
       "  </thead>\n",
       "  <tbody>\n",
       "    <tr>\n",
       "      <th>0</th>\n",
       "      <td>236</td>\n",
       "      <td>216</td>\n",
       "      <td>214</td>\n",
       "      <td>143</td>\n",
       "      <td>131</td>\n",
       "      <td>130</td>\n",
       "      <td>131</td>\n",
       "      <td>110</td>\n",
       "      <td>98</td>\n",
       "      <td>134</td>\n",
       "      <td>93</td>\n",
       "      <td>95</td>\n",
       "      <td>92</td>\n",
       "      <td>82</td>\n",
       "      <td>80</td>\n",
       "      <td>cute</td>\n",
       "    </tr>\n",
       "    <tr>\n",
       "      <th>1</th>\n",
       "      <td>248</td>\n",
       "      <td>230</td>\n",
       "      <td>174</td>\n",
       "      <td>100</td>\n",
       "      <td>151</td>\n",
       "      <td>213</td>\n",
       "      <td>48</td>\n",
       "      <td>99</td>\n",
       "      <td>197</td>\n",
       "      <td>170</td>\n",
       "      <td>122</td>\n",
       "      <td>71</td>\n",
       "      <td>93</td>\n",
       "      <td>64</td>\n",
       "      <td>92</td>\n",
       "      <td>cute</td>\n",
       "    </tr>\n",
       "    <tr>\n",
       "      <th>2</th>\n",
       "      <td>213</td>\n",
       "      <td>207</td>\n",
       "      <td>208</td>\n",
       "      <td>136</td>\n",
       "      <td>137</td>\n",
       "      <td>140</td>\n",
       "      <td>107</td>\n",
       "      <td>71</td>\n",
       "      <td>55</td>\n",
       "      <td>48</td>\n",
       "      <td>71</td>\n",
       "      <td>92</td>\n",
       "      <td>69</td>\n",
       "      <td>58</td>\n",
       "      <td>54</td>\n",
       "      <td>cute</td>\n",
       "    </tr>\n",
       "    <tr>\n",
       "      <th>3</th>\n",
       "      <td>242</td>\n",
       "      <td>243</td>\n",
       "      <td>238</td>\n",
       "      <td>244</td>\n",
       "      <td>213</td>\n",
       "      <td>169</td>\n",
       "      <td>211</td>\n",
       "      <td>186</td>\n",
       "      <td>192</td>\n",
       "      <td>171</td>\n",
       "      <td>183</td>\n",
       "      <td>183</td>\n",
       "      <td>194</td>\n",
       "      <td>152</td>\n",
       "      <td>163</td>\n",
       "      <td>cute</td>\n",
       "    </tr>\n",
       "    <tr>\n",
       "      <th>4</th>\n",
       "      <td>220</td>\n",
       "      <td>211</td>\n",
       "      <td>212</td>\n",
       "      <td>137</td>\n",
       "      <td>156</td>\n",
       "      <td>163</td>\n",
       "      <td>163</td>\n",
       "      <td>79</td>\n",
       "      <td>109</td>\n",
       "      <td>138</td>\n",
       "      <td>159</td>\n",
       "      <td>76</td>\n",
       "      <td>67</td>\n",
       "      <td>96</td>\n",
       "      <td>114</td>\n",
       "      <td>cute</td>\n",
       "    </tr>\n",
       "  </tbody>\n",
       "</table>\n",
       "</div>"
      ],
      "text/plain": [
       "   c_1_r  c_1_g  c_1_b  c_2_r  c_2_g  c_2_b  c_3_r  c_3_g  c_3_b  c_4_r  \\\n",
       "0    236    216    214    143    131    130    131    110     98    134   \n",
       "1    248    230    174    100    151    213     48     99    197    170   \n",
       "2    213    207    208    136    137    140    107     71     55     48   \n",
       "3    242    243    238    244    213    169    211    186    192    171   \n",
       "4    220    211    212    137    156    163    163     79    109    138   \n",
       "\n",
       "   c_4_g  c_4_b  c_5_r  c_5_g  c_5_b style  \n",
       "0     93     95     92     82     80  cute  \n",
       "1    122     71     93     64     92  cute  \n",
       "2     71     92     69     58     54  cute  \n",
       "3    183    183    194    152    163  cute  \n",
       "4    159     76     67     96    114  cute  "
      ]
     },
     "execution_count": 5,
     "metadata": {},
     "output_type": "execute_result"
    }
   ],
   "source": [
    "data.head()"
   ]
  }
 ],
 "metadata": {
  "kernelspec": {
   "display_name": "Python 3",
   "language": "python",
   "name": "python3"
  },
  "language_info": {
   "codemirror_mode": {
    "name": "ipython",
    "version": 3
   },
   "file_extension": ".py",
   "mimetype": "text/x-python",
   "name": "python",
   "nbconvert_exporter": "python",
   "pygments_lexer": "ipython3",
   "version": "3.7.0"
  }
 },
 "nbformat": 4,
 "nbformat_minor": 2
}
