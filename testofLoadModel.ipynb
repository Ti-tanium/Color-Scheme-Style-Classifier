{
 "cells": [
  {
   "cell_type": "code",
   "execution_count": 2,
   "metadata": {},
   "outputs": [],
   "source": [
    "import lightgbm as lgb\n",
    "from colorthief import ColorThief\n",
    "import colorsys\n",
    "from PIL import Image\n",
    "import matplotlib.pyplot as plt \n",
    "import pandas as pd"
   ]
  },
  {
   "cell_type": "code",
   "execution_count": 3,
   "metadata": {},
   "outputs": [],
   "source": [
    "# load model\n",
    "gbm=lgb.Booster(model_file='./model_withFilter.txt')"
   ]
  },
  {
   "cell_type": "code",
   "execution_count": 4,
   "metadata": {},
   "outputs": [],
   "source": [
    "# param: palette,eg:[(r,g,b),(r,g,b),(r,g,b),(r,g,b),(r,g,b)]\n",
    "# return style ['cute','fresh','technology']\n",
    "def style_predict(palette):\n",
    "    def sortByLight2(elem):\n",
    "        hls=colorsys.rgb_to_hls(*elem)\n",
    "        return hls[1]\n",
    "    # build a color palette\n",
    "    palette.sort(key=sortByLight2,reverse=True)\n",
    "    palette1=[*palette[0],*palette[1],*palette[2],*palette[3],*palette[4]]\n",
    "    for c in palette:\n",
    "        h,l,s=colorsys.rgb_to_hls(*c)\n",
    "        palette1=[*palette1,h,l,s]\n",
    "    x=pd.Series(palette1)\n",
    "    y_pred = gbm.predict(x, num_iteration=gbm.best_iteration)\n",
    "    pred_Y=[0 for i in range(len(y_pred))]\n",
    "    y_pred=y_pred.tolist()\n",
    "    style=['cute','fresh','technology']\n",
    "    for i in range(len(y_pred)):\n",
    "        pred_Y[i]=y_pred[i][:].index(max(y_pred[i][:]))\n",
    "    print(\"Probability：\",y_pred)\n",
    "    return style[pred_Y[0]]"
   ]
  },
  {
   "cell_type": "code",
   "execution_count": 12,
   "metadata": {},
   "outputs": [
    {
     "data": {
      "image/png": "[encoded data removed]",
      "text/plain": [
       "<Figure size 432x288 with 1 Axes>"
      ]
     },
     "metadata": {
      "needs_background": "light"
     },
     "output_type": "display_data"
    },
    {
     "name": "stdout",
     "output_type": "stream",
     "text": [
      "Probability： [[0.9003913424500601, 0.010299603692143727, 0.08930905385779628]]\n",
      "cute\n"
     ]
    },
    {
     "name": "stderr",
     "output_type": "stream",
     "text": [
      "E:\\Users\\ASUS\\Anaconda3\\lib\\site-packages\\lightgbm\\basic.py:478: UserWarning: Converting data to scipy sparse matrix.\n",
      "  warnings.warn('Converting data to scipy sparse matrix.')\n"
     ]
    }
   ],
   "source": [
    "# test, show the palette extract from image, and the style prediction for the palette\n",
    "color_thief = ColorThief('F:\\doc\\Contests\\Intel\\style_classfier\\Style_classifier\\datacute\\cute_0.jpg')\n",
    "# build a color palette\n",
    "palette = color_thief.get_palette(color_count=5,quality=1)\n",
    "def sortByLight2(elem):\n",
    "    hls=colorsys.rgb_to_hls(*elem)\n",
    "    return hls[1]\n",
    "palette.sort(key=sortByLight2,reverse=True)\n",
    "im1=Image.new(\"RGB\",(len(palette)*50,1*50))\n",
    "for i,color in enumerate(palette):\n",
    "    for y in range(50):\n",
    "        for x in range(50):\n",
    "            im1.putpixel((x+i*50,y),color)\n",
    "plt.imshow(im1)\n",
    "plt.axis('off')\n",
    "plt.show()\n",
    "print(style_predict(palette))"
   ]
  },
  {
   "cell_type": "code",
   "execution_count": 13,
   "metadata": {},
   "outputs": [
    {
     "data": {
      "text/plain": [
       "[(46, 175, 231), (76, 140, 144), (9, 102, 179), (6, 71, 130), (4, 23, 47)]"
      ]
     },
     "execution_count": 13,
     "metadata": {},
     "output_type": "execute_result"
    }
   ],
   "source": [
    "palette"
   ]
  }
 ],
 "metadata": {
  "kernelspec": {
   "display_name": "Python 3",
   "language": "python",
   "name": "python3"
  },
  "language_info": {
   "codemirror_mode": {
    "name": "ipython",
    "version": 3
   },
   "file_extension": ".py",
   "mimetype": "text/x-python",
   "name": "python",
   "nbconvert_exporter": "python",
   "pygments_lexer": "ipython3",
   "version": "3.7.0"
  }
 },
 "nbformat": 4,
 "nbformat_minor": 2
}
